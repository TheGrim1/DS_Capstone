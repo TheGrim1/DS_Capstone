{
 "cells": [
  {
   "cell_type": "markdown",
   "metadata": {},
   "source": [
    "# Report for the Applied Data Science Capstone project  \n",
    "by Andreas Johannes\n",
    "\n",
    "\n",
    "## Background\n",
    "\n",
    "![Be this guy!](https://thumbs.dreamstime.com/z/money-7661988.jpg)\n",
    "\n",
    "### Sell your Roses  here (or rather there)!\n",
    "\n",
    "Parisean Rose seller, this could be you!\n",
    "Whether you are selling Roses to couples or playing your Fiddle for tips, you want to know where the most restaurants and bars are, because that's were the most money can be made. Read on for an depth analysis of where to go tonight to ply your trade.\n",
    "\n",
    "PLUS if you know you made money in one area, use our SUPER AI to find similar areas for your next nights work!\n",
    "\n",
    "![make the machiene work for you](https://thumbs.dreamstime.com/z/human-hand-receiving-rose-artificial-hand-senior-87445418.jpg)\n",
    "\n",
    "\n",
    "\n",
    "\n",
    "### Summary:\n",
    "\n",
    " - We will grade neighborhoods according to how many restaurants and bars there are in them\n",
    " - Show this data on a map of Paris\n",
    " - Given a starting adress, we will find locations which offer similar night life options\n",
    " - Probably this may be useful outside of the rose-sellign market, but that's a future venture.\n",
    " \n",
    "## Data  \n",
    "Data sources and treatment\n",
    "\n",
    "\n",
    " - We will need to segment Paris into evenly sized tiles in order to get a good approximation for the reataurant and bar density.\n",
    " - With this seqmentation access the Foursquare database to find all places to go around the tile positions.\n",
    " - Sort by number of found places and create a heatmap overlay for Paris.\n",
    " - \n",
    " \n",
    "\n"
   ]
  },
  {
   "cell_type": "code",
   "execution_count": null,
   "metadata": {},
   "outputs": [],
   "source": []
  }
 ],
 "metadata": {
  "kernelspec": {
   "display_name": "Python 3",
   "language": "python",
   "name": "python3"
  },
  "language_info": {
   "codemirror_mode": {
    "name": "ipython",
    "version": 3
   },
   "file_extension": ".py",
   "mimetype": "text/x-python",
   "name": "python",
   "nbconvert_exporter": "python",
   "pygments_lexer": "ipython3",
   "version": "3.7.4"
  }
 },
 "nbformat": 4,
 "nbformat_minor": 2
}
