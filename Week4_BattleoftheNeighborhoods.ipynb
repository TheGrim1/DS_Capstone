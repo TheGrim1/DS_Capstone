{
 "cells": [
  {
   "cell_type": "markdown",
   "metadata": {},
   "source": [
    "# Report for the Applied Data Science Capstone project  \n",
    "by Andreas Johannes\n",
    "\n",
    "# Salvation of a Rosesalesman\n",
    "\n",
    "## Background\n",
    "\n",
    "![Be this guy!](https://thumbs.dreamstime.com/z/money-7661988.jpg)\n",
    "\n",
    "### Sell your Roses  here (or rather there)!\n",
    "\n",
    "Parisean Rose seller, this could be you!\n",
    "Whether you are selling Roses to couples or playing your Fiddle for tips, you want to know where the most restaurants and bars are, because that's were the most money can be made. Read on for an depth analysis of where to go tonight to ply your trade.\n",
    "\n",
    "PLUS if you know you made money in one area, use our similarity rating to find similar areas for your next nights work!\n",
    "\n",
    "![make the machiene work for you](https://thumbs.dreamstime.com/z/human-hand-receiving-rose-artificial-hand-senior-87445418.jpg)\n",
    "\n",
    "\n",
    "\n",
    "### Summary:  \n",
    "To find the best areas to sell Roses on the street:\n",
    " - Grade areas in Paris according to how many restaurants and bars there are in them\n",
    "  - Show this data on a map of Paris\n",
    "  - By restaurant category/type\n",
    " - Find locations which offer similar night life options\n",
    "  - generally categorize areas\n",
    "  - given a starting address, find similar areas  \n",
    "Probably this analysis may be useful outside of the rose-selling market, but that's a future venture.\n",
    " \n",
    "## Data sources and treatment\n",
    "\n",
    "### The heat-map   \n",
    " - We will segment Paris into evenly sized tiles\n",
    " - Use **Foursquare** to obtain a count for the restaurants and bars in each tile.\n",
    " - Categorize Restaurants and bars in 4-8 categories (eg. Bar, club, Fast Food etc.)\n",
    " - Use **folium** to plot heat-map tiles onto a map of Paris for each category\n",
    " - Sort by number of found places to suggest best areas.\n",
    "\n",
    "### Similar areas  \n",
    "Use above categories to find areas that are similar:  \n",
    " - Inspect distribution to see how many area categories are sensible\n",
    " - use k-means to group this number of categories\n",
    " - Plot to map of Paris\n",
    " - given a location, use generalized distance across features (as used in k-means algorithm) to produce a sorted list of areas similar to the current location.\n",
    "\n",
    "\n",
    " \n",
    "\n"
   ]
  },
  {
   "cell_type": "code",
   "execution_count": null,
   "metadata": {},
   "outputs": [],
   "source": []
  }
 ],
 "metadata": {
  "kernelspec": {
   "display_name": "Python 3",
   "language": "python",
   "name": "python3"
  },
  "language_info": {
   "codemirror_mode": {
    "name": "ipython",
    "version": 3
   },
   "file_extension": ".py",
   "mimetype": "text/x-python",
   "name": "python",
   "nbconvert_exporter": "python",
   "pygments_lexer": "ipython3",
   "version": "3.7.4"
  }
 },
 "nbformat": 4,
 "nbformat_minor": 2
}
